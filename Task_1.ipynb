{
  "nbformat": 4,
  "nbformat_minor": 0,
  "metadata": {
    "colab": {
      "name": "Task_1",
      "provenance": [],
      "authorship_tag": "ABX9TyNZTVcQ00sXaN9arrDMMYu6",
      "include_colab_link": true
    },
    "kernelspec": {
      "name": "python3",
      "display_name": "Python 3"
    },
    "language_info": {
      "name": "python"
    }
  },
  "cells": [
    {
      "cell_type": "markdown",
      "metadata": {
        "id": "view-in-github",
        "colab_type": "text"
      },
      "source": [
        "<a href=\"https://colab.research.google.com/github/vyshnavi7120/devopsal9071/blob/master/Task_1.ipynb\" target=\"_parent\"><img src=\"https://colab.research.google.com/assets/colab-badge.svg\" alt=\"Open In Colab\"/></a>"
      ]
    },
    {
      "cell_type": "code",
      "metadata": {
        "id": "cg8U3cZdWTdn"
      },
      "source": [
        "record = {1001 : { 'name' : 'Vyshnavi', 'price' : 986, 'quantity' : 3 },\n",
        "          1002 : { 'name' : 'Nithish', 'price' : 899, 'quantity' : 5 },\n",
        "          1003 : { 'name' : 'Kumar', 'price' : 989, 'quantity' : 2 }} "
      ],
      "execution_count": 1,
      "outputs": []
    },
    {
      "cell_type": "code",
      "metadata": {
        "colab": {
          "base_uri": "https://localhost:8080/"
        },
        "id": "ejC30XN2XP7R",
        "outputId": "3d1b9d0e-7754-437b-ba7a-bd2eb868fd1b"
      },
      "source": [
        "record"
      ],
      "execution_count": 2,
      "outputs": [
        {
          "output_type": "execute_result",
          "data": {
            "text/plain": [
              "{1001: {'name': 'Vyshnavi', 'price': 986, 'quantity': 3},\n",
              " 1002: {'name': 'Nithish', 'price': 899, 'quantity': 5},\n",
              " 1003: {'name': 'Kumar', 'price': 989, 'quantity': 2}}"
            ]
          },
          "metadata": {},
          "execution_count": 2
        }
      ]
    },
    {
      "cell_type": "code",
      "metadata": {
        "colab": {
          "base_uri": "https://localhost:8080/"
        },
        "id": "FFyPlWsHYph8",
        "outputId": "31c5ae4d-9e3f-4a98-f028-cb954f1ae0fb"
      },
      "source": [
        "type(record)"
      ],
      "execution_count": 3,
      "outputs": [
        {
          "output_type": "execute_result",
          "data": {
            "text/plain": [
              "dict"
            ]
          },
          "metadata": {},
          "execution_count": 3
        }
      ]
    },
    {
      "cell_type": "code",
      "metadata": {
        "id": "wgnH4do0Yxxw"
      },
      "source": [
        "import json\n"
      ],
      "execution_count": 4,
      "outputs": []
    },
    {
      "cell_type": "code",
      "metadata": {
        "id": "KlQSSNHJZIZv"
      },
      "source": [
        "data = json.dumps(record)"
      ],
      "execution_count": 5,
      "outputs": []
    },
    {
      "cell_type": "code",
      "metadata": {
        "colab": {
          "base_uri": "https://localhost:8080/",
          "height": 52
        },
        "id": "fNnX2SluZMWQ",
        "outputId": "9d22e02b-23b6-46ae-97e6-aacdd6bab630"
      },
      "source": [
        "data"
      ],
      "execution_count": 6,
      "outputs": [
        {
          "output_type": "execute_result",
          "data": {
            "application/vnd.google.colaboratory.intrinsic+json": {
              "type": "string"
            },
            "text/plain": [
              "'{\"1001\": {\"name\": \"Vyshnavi\", \"price\": 986, \"quantity\": 3}, \"1002\": {\"name\": \"Nithish\", \"price\": 899, \"quantity\": 5}, \"1003\": {\"name\": \"Kumar\", \"price\": 989, \"quantity\": 2}}'"
            ]
          },
          "metadata": {},
          "execution_count": 6
        }
      ]
    },
    {
      "cell_type": "code",
      "metadata": {
        "colab": {
          "base_uri": "https://localhost:8080/"
        },
        "id": "50g5YBFyZXI_",
        "outputId": "3e9a506b-4f53-4f48-e311-73d9408504c6"
      },
      "source": [
        "type(data)"
      ],
      "execution_count": 7,
      "outputs": [
        {
          "output_type": "execute_result",
          "data": {
            "text/plain": [
              "str"
            ]
          },
          "metadata": {},
          "execution_count": 7
        }
      ]
    },
    {
      "cell_type": "code",
      "metadata": {
        "id": "O_1zW-6zcGdU"
      },
      "source": [
        "fd = open(\"task_1.json\", 'w')\n",
        "\n",
        "fd.write(data)\n",
        "\n",
        "fd.close()"
      ],
      "execution_count": 8,
      "outputs": []
    },
    {
      "cell_type": "code",
      "metadata": {
        "id": "4R7mIpRMcZ79"
      },
      "source": [
        "fd = open(\"task_1.json\", 'r')\n",
        "\n",
        "txt = fd.read()\n",
        "\n",
        "fd.close()"
      ],
      "execution_count": 9,
      "outputs": []
    },
    {
      "cell_type": "code",
      "metadata": {
        "colab": {
          "base_uri": "https://localhost:8080/",
          "height": 52
        },
        "id": "JYFiYqfKckH9",
        "outputId": "27cd6d13-f130-4b0f-8030-1d165d5f798d"
      },
      "source": [
        "txt"
      ],
      "execution_count": 10,
      "outputs": [
        {
          "output_type": "execute_result",
          "data": {
            "application/vnd.google.colaboratory.intrinsic+json": {
              "type": "string"
            },
            "text/plain": [
              "'{\"1001\": {\"name\": \"Vyshnavi\", \"price\": 986, \"quantity\": 3}, \"1002\": {\"name\": \"Nithish\", \"price\": 899, \"quantity\": 5}, \"1003\": {\"name\": \"Kumar\", \"price\": 989, \"quantity\": 2}}'"
            ]
          },
          "metadata": {},
          "execution_count": 10
        }
      ]
    },
    {
      "cell_type": "code",
      "metadata": {
        "colab": {
          "base_uri": "https://localhost:8080/"
        },
        "id": "hQady-PNcmyC",
        "outputId": "f811759f-1726-49b2-94fe-af2a4ebf22e3"
      },
      "source": [
        "type(txt)"
      ],
      "execution_count": 11,
      "outputs": [
        {
          "output_type": "execute_result",
          "data": {
            "text/plain": [
              "str"
            ]
          },
          "metadata": {},
          "execution_count": 11
        }
      ]
    },
    {
      "cell_type": "code",
      "metadata": {
        "id": "LLlW1GLbcorg"
      },
      "source": [
        "task_1 = json.loads(txt)"
      ],
      "execution_count": 12,
      "outputs": []
    },
    {
      "cell_type": "code",
      "metadata": {
        "colab": {
          "base_uri": "https://localhost:8080/"
        },
        "id": "gBjPv4SQczWf",
        "outputId": "f960dd7f-7869-4eb3-e858-c51fc1fad2e6"
      },
      "source": [
        "task_1"
      ],
      "execution_count": 13,
      "outputs": [
        {
          "output_type": "execute_result",
          "data": {
            "text/plain": [
              "{'1001': {'name': 'Vyshnavi', 'price': 986, 'quantity': 3},\n",
              " '1002': {'name': 'Nithish', 'price': 899, 'quantity': 5},\n",
              " '1003': {'name': 'Kumar', 'price': 989, 'quantity': 2}}"
            ]
          },
          "metadata": {},
          "execution_count": 13
        }
      ]
    },
    {
      "cell_type": "code",
      "metadata": {
        "colab": {
          "base_uri": "https://localhost:8080/"
        },
        "id": "9mwA44WMc0qf",
        "outputId": "a763d10d-1c44-4d57-e169-66e48eac984f"
      },
      "source": [
        "type(task_1)"
      ],
      "execution_count": 14,
      "outputs": [
        {
          "output_type": "execute_result",
          "data": {
            "text/plain": [
              "dict"
            ]
          },
          "metadata": {},
          "execution_count": 14
        }
      ]
    },
    {
      "cell_type": "markdown",
      "metadata": {
        "id": "TnxrtvaWecE1"
      },
      "source": [
        "### **Add a new item to the list:**"
      ]
    },
    {
      "cell_type": "code",
      "metadata": {
        "colab": {
          "base_uri": "https://localhost:8080/"
        },
        "id": "DspFZpwBc3DY",
        "outputId": "8eea2d4d-aec8-4d3a-85fd-1e55a1fc75ed"
      },
      "source": [
        "prod_id = str(input(\"Enter product Id: \"))\n",
        "name = str(input(\"Enter name: \"))\n",
        "price = int(input(\"Enter the price of the product: \"))\n",
        "quantity = int(input(\"Enter the quantity of product: \"))"
      ],
      "execution_count": 17,
      "outputs": [
        {
          "name": "stdout",
          "output_type": "stream",
          "text": [
            "Enter product Id: 1009\n",
            "Enter name: sri\n",
            "Enter the price of the product: 908\n",
            "Enter the quantity of product: 2\n"
          ]
        }
      ]
    },
    {
      "cell_type": "code",
      "metadata": {
        "id": "-IkZ3FhpdQix"
      },
      "source": [
        "task_1[prod_id] = {\"name\" : name, \"price\" : price, \"quantity\" : quantity}"
      ],
      "execution_count": 18,
      "outputs": []
    },
    {
      "cell_type": "code",
      "metadata": {
        "colab": {
          "base_uri": "https://localhost:8080/"
        },
        "id": "P05ZhR2BdcTM",
        "outputId": "44d7b45a-fe0e-4029-b27d-2e9f9f4b8725"
      },
      "source": [
        "task_1"
      ],
      "execution_count": 19,
      "outputs": [
        {
          "output_type": "execute_result",
          "data": {
            "text/plain": [
              "{'1001': {'name': 'Vyshnavi', 'price': 986, 'quantity': 3},\n",
              " '1002': {'name': 'Nithish', 'price': 899, 'quantity': 5},\n",
              " '1003': {'name': 'Kumar', 'price': 989, 'quantity': 2},\n",
              " '1009': {'name': 'sri', 'price': 908, 'quantity': 2}}"
            ]
          },
          "metadata": {},
          "execution_count": 19
        }
      ]
    },
    {
      "cell_type": "markdown",
      "metadata": {
        "id": "xisHfRGahccN"
      },
      "source": [
        "### **Combining all the above steps into one code:**"
      ]
    },
    {
      "cell_type": "code",
      "metadata": {
        "colab": {
          "base_uri": "https://localhost:8080/"
        },
        "id": "g5wIeLUyhoMz",
        "outputId": "d138965c-3bbc-468f-8725-a2a3615dea98"
      },
      "source": [
        "prod_id = str(input(\"Enter product Id: \"))\n",
        "name = str(input(\"Enter name: \"))\n",
        "price = int(input(\"Enter the price of the product: \"))\n",
        "quantity = int(input(\"Enter the quantity of product: \"))\n",
        "\n",
        "task_1[prod_id] = {\"name\" : name, \"price\" : price, \"quantity\" : quantity}\n",
        "\n",
        "js = json.dumps(task_1)\n",
        "\n",
        "fd = open(\"task_1.json\", 'w')\n",
        "fd.write(js)\n",
        "fd.close()"
      ],
      "execution_count": 20,
      "outputs": [
        {
          "name": "stdout",
          "output_type": "stream",
          "text": [
            "Enter product Id: 1100\n",
            "Enter name: nisha\n",
            "Enter the price of the product: 456\n",
            "Enter the quantity of product: 3\n"
          ]
        }
      ]
    },
    {
      "cell_type": "code",
      "metadata": {
        "id": "3Ptk-05tiERR",
        "colab": {
          "base_uri": "https://localhost:8080/",
          "height": 52
        },
        "outputId": "93a1a1e3-ec7d-46c1-dc4d-4db5acaa03da"
      },
      "source": [
        "js"
      ],
      "execution_count": 21,
      "outputs": [
        {
          "output_type": "execute_result",
          "data": {
            "application/vnd.google.colaboratory.intrinsic+json": {
              "type": "string"
            },
            "text/plain": [
              "'{\"1001\": {\"name\": \"Vyshnavi\", \"price\": 986, \"quantity\": 3}, \"1002\": {\"name\": \"Nithish\", \"price\": 899, \"quantity\": 5}, \"1003\": {\"name\": \"Kumar\", \"price\": 989, \"quantity\": 2}, \"1009\": {\"name\": \"sri\", \"price\": 908, \"quantity\": 2}, \"1100\": {\"name\": \"nisha\", \"price\": 456, \"quantity\": 3}}'"
            ]
          },
          "metadata": {},
          "execution_count": 21
        }
      ]
    },
    {
      "cell_type": "code",
      "metadata": {
        "id": "ioK5SehtA5X3"
      },
      "source": [
        ""
      ],
      "execution_count": null,
      "outputs": []
    }
  ]
}